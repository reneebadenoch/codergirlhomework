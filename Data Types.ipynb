
  {
   "cell_type": "markdown",
   "source": [
    "# Data Types\n",
    "\n",
    "## Numeric Types \n",
    "    - Integers: Integers are whole numbers, i.e, numbers that don´t include decimals\n",
    "    - Float: Floats are numbers that include decimals \n",
    "\n",
    "## Dictionary\n",
    "    * Dictionary assigns value to variables as a paired set. For example, if I were to have a set of myCats, where Panda = cute and\n",
    "    Penguin =fluffy, the dictionary output for print(myCats[\"Panda\"] would be \"fluffy\" \n",
    "\n",
    "## Boolean \n",
    "    * Booleans assign True/False values to variables. For example, if I were coding conditions for my cats, an input that says\n",
    "    ¨Penguin is fluffy¨would have an output of \"True,\" whereas an input that says ¨Penguin is not fluffy\" would have an output of\n",
    "    \"False\"\n",
    "\n",
    "## Sequence\n",
    "    * A Set is a type of sequence that is unordered, meaning the command print() Would have items appear in any order. A set can not\n",
    "    have duplicates. Items can be added to a set. A set is written in curly brackets. A set defined as myPets might be written as\n",
    "    myPets = {\"Panda\", \"Penguin\"}. Adding my dog to the set would look like {\"Panda\", \"Penguin\", \"Bailey\"}. \n",
    "    * Lists are another way to documents groups of items. Lists are changable, ordered, and can have duplicates. They are written in\n",
    "    square brackets. A list containing the items in my closet might look like this: myCloset [\"denim shorts\", \"denim pants\", \"denim\n",
    "    jacket\", \"denim jacket\"]. If I bought a cool new denim hat, it could be added to the list.\n",
    "    *Tuples are ordered groups of items. They are unchangeable. They allow duplicates. They are written in rounded brackets. My\n",
    "    landlord says I can´t have any more pets, the Tuple for myPets is (\"Bailey\", \"Panda\", and \"Penguin\"), which cannot be added to or\n",
    "    taken from. \n",
    "\n",
    "## String\n",
    "    * Strings can be used to contain an array of variables. They are writen either by using single quotes or double, and can be made\n",
    "    multiline through using three single or double quotations. They can be attached to a single variable to save time when trying to\n",
    "    bring up a string in code. For example if I assign a Spanish haiku about my cats to the letter a by typing \n",
    "    a = \"\"\"Hay dos gatitos\n",
    "    Pandita y Penguino \n",
    "    Son tan muy lindos\"\"\", \n",
    "    I could recall the entire text by just typing print(a), rather than retyping the entire poem "
   ],
   "metadata": {}
  },
  {
   "cell_type": "markdown",
   "source": [],
   "metadata": {}
  },
  {
   "cell_type": "code",
   "execution_count": 1,
   "source": [
    "#to run cells, you can press shift-enter on windows and command-enter on mac\n",
    "# integers are whole numbers\n",
    "# floats are decimals\n",
    "x = 5\n",
    "y = 5.0 "
   ],
   "outputs": [],
   "metadata": {}
  },
  {
   "cell_type": "code",
   "execution_count": 2,
   "source": [
    "print(type(x))"
   ],
   "outputs": [
    {
     "output_type": "stream",
     "name": "stdout",
     "text": [
      "<class 'int'>\n"
     ]
    }
   ],
   "metadata": {}
  },
  {
   "cell_type": "code",
   "execution_count": 3,
   "source": [
    "print(type(y))"
   ],
   "outputs": [
    {
     "output_type": "stream",
     "name": "stdout",
     "text": [
      "<class 'float'>\n"
     ]
    }
   ],
   "metadata": {}
  },
  {
   "cell_type": "code",
   "execution_count": 4,
   "source": [
    "# Dictionaries are key:value pairs\n",
    "breakfast = {\"eggs\":18,\n",
    "            \"bacon\":10}"
   ],
   "outputs": [],
   "metadata": {}
  },
  {
   "cell_type": "code",
   "execution_count": 5,
   "source": [
    "print(breakfast[\"eggs\"])"
   ],
   "outputs": [
    {
     "output_type": "stream",
     "name": "stdout",
     "text": [
      "18\n"
     ]
    }
   ],
   "metadata": {}
  },
  {
   "cell_type": "code",
   "execution_count": 6,
   "source": [
    "#Boolean\n",
    "is_true = False\n",
    "print(type(is_true))"
   ],
   "outputs": [
    {
     "output_type": "stream",
     "name": "stdout",
     "text": [
      "<class 'bool'>\n"
     ]
    }
   ],
   "metadata": {}
  },
  {
   "cell_type": "code",
   "execution_count": 7,
   "source": [
    "#sets have unordered values and unchangeable values (immutable)\n",
    "breakfast_set = {\"eggs\",\"bacon\"}\n",
    "#can add items to a set (but only if its not there yet)\n",
    "breakfast_set.add(\"coffee\")\n",
    "\n",
    "print(breakfast_set)"
   ],
   "outputs": [
    {
     "output_type": "stream",
     "name": "stdout",
     "text": [
      "{'bacon', 'coffee', 'eggs'}\n"
     ]
    }
   ],
   "metadata": {}
  },
  {
   "cell_type": "code",
   "execution_count": 11,
   "source": [
    "# list values can be changed and they are ordered\n",
    "months = [\"January\",\"February\",\"March\"]\n",
    "months[0]"
   ],
   "outputs": [
    {
     "output_type": "execute_result",
     "data": {
      "text/plain": [
       "'February'"
      ]
     },
     "metadata": {},
     "execution_count": 11
    }
   ],
   "metadata": {}
  },
  {
   "cell_type": "code",
   "execution_count": 12,
   "source": [
    "# tuples are ordered but unchangeable (immutable)\n",
    "breakfast_tuple = (\"coffee\",\"bagels\",\"cereal\")\n",
    "breakfast_tuple[0]"
   ],
   "outputs": [
    {
     "output_type": "execute_result",
     "data": {
      "text/plain": [
       "'coffee'"
      ]
     },
     "metadata": {},
     "execution_count": 12
    }
   ],
   "metadata": {}
  },
  {
   "cell_type": "code",
   "execution_count": 14,
   "source": [
    "print(len(breakfast_tuple))"
   ],
   "outputs": [
    {
     "output_type": "stream",
     "name": "stdout",
     "text": [
      "3\n"
     ]
    }
   ],
   "metadata": {}
  },
  {
   "cell_type": "code",
   "execution_count": null,
   "source": [],
   "outputs": [],
   "metadata": {}
  }
 ],
 "metadata": {
  "kernelspec": {
   "display_name": "Python 3",
   "language": "python",
   "name": "python3"
  },
  "language_info": {
   "codemirror_mode": {
    "name": "ipython",
    "version": 3
   },
   "file_extension": ".py",
   "mimetype": "text/x-python",
   "name": "python",
   "nbconvert_exporter": "python",
   "pygments_lexer": "ipython3",
   "version": "3.8.3"
  }
 },
 "nbformat": 4,
 "nbformat_minor": 4
}
